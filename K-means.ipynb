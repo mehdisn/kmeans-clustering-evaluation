{
 "cells": [
  {
   "attachments": {},
   "cell_type": "markdown",
   "metadata": {},
   "source": [
    "<h3>Importing the necessary packages:</h3>"
   ]
  },
  {
   "cell_type": "code",
   "execution_count": 83,
   "metadata": {},
   "outputs": [],
   "source": [
    "import numpy as np\n",
    "import pandas as pd"
   ]
  },
  {
   "attachments": {},
   "cell_type": "markdown",
   "metadata": {},
   "source": [
    "<h3>A function for measuring euclidean distance:</h3>"
   ]
  },
  {
   "cell_type": "code",
   "execution_count": 84,
   "metadata": {},
   "outputs": [],
   "source": [
    "def euclidean_distance(point1, point2):\n",
    "    return np.sqrt(np.sum((point1 - point2) ** 2))"
   ]
  },
  {
   "attachments": {},
   "cell_type": "markdown",
   "metadata": {},
   "source": [
    "<h3>K-Means Implementation:</h3>"
   ]
  },
  {
   "cell_type": "code",
   "execution_count": 85,
   "metadata": {},
   "outputs": [],
   "source": [
    "def kmeans(data, k, max_iterations=100):\n",
    "    n = data.shape[0]\n",
    "    centroids = data[np.random.choice(n, k, replace=False)]\n",
    "    for i in range(max_iterations):\n",
    "        clusters = {i: [] for i in range(k)}\n",
    "        for point in data:\n",
    "            distances = [euclidean_distance(point, centroid) for centroid in centroids]\n",
    "            closest_centroid = np.argmin(distances)\n",
    "            clusters[closest_centroid].append(point)\n",
    "\n",
    "        new_centroids = []\n",
    "        for cluster in clusters.values():\n",
    "            new_centroids.append(np.mean(cluster, axis=0))\n",
    "        new_centroids = np.array(new_centroids)\n",
    "\n",
    "        if np.array_equal(centroids, new_centroids):\n",
    "            break\n",
    "        centroids = new_centroids\n",
    "    return centroids, clusters"
   ]
  },
  {
   "attachments": {},
   "cell_type": "markdown",
   "metadata": {},
   "source": [
    "<h3>Purity Score Implementation:</h3>"
   ]
  },
  {
   "cell_type": "code",
   "execution_count": 86,
   "metadata": {},
   "outputs": [],
   "source": [
    "def purity_score(clusters, labels):\n",
    "    total_points = 0\n",
    "    correctly_labelled_points = 0\n",
    "    for cluster in clusters.values():\n",
    "        cluster_points = np.array(cluster)\n",
    "        cluster_label_counts = np.zeros(4)\n",
    "        for i in range(4):\n",
    "            mask = np.isin(labels, cluster_points)\n",
    "            cluster_label_counts[i] = np.sum(labels[mask] == i)\n",
    "        most_frequent_label = np.argmax(cluster_label_counts)\n",
    "        cluster_mask = np.isin(labels, cluster_points)\n",
    "        total_points += np.sum(cluster_mask)\n",
    "        correctly_labelled_points += np.sum(labels[cluster_mask] == most_frequent_label)\n",
    "    purity = correctly_labelled_points / total_points\n",
    "    return purity"
   ]
  },
  {
   "attachments": {},
   "cell_type": "markdown",
   "metadata": {},
   "source": [
    "<h3>Load and preprocess the data:</h3>"
   ]
  },
  {
   "cell_type": "code",
   "execution_count": 87,
   "metadata": {},
   "outputs": [
    {
     "name": "stdout",
     "output_type": "stream",
     "text": [
      "(615, 13)\n"
     ]
    }
   ],
   "source": [
    "df = pd.read_csv('hcvdat0.csv')\n",
    "df['Sex'] = df['Sex'].replace({'m': 0, 'f': 1})\n",
    "mean_values = df.mean(numeric_only=True)\n",
    "df = df.fillna(mean_values)\n",
    "data = df.iloc[:, :-1].apply(pd.to_numeric, errors='coerce').values\n",
    "print(data.shape)\n",
    "labels = df.iloc[:, -1].replace({'0=Blood Donor': 0, '0s=suspect Blood Donor': 1, \n",
    "                                 '1=Hepatitis': 2, '2=Fibrosis': 3, '3=Cirrhosis': 4}).values.reshape(-1, 1)"
   ]
  },
  {
   "attachments": {},
   "cell_type": "markdown",
   "metadata": {},
   "source": [
    "<h3>Cluster the data using k-means:</h3>"
   ]
  },
  {
   "cell_type": "code",
   "execution_count": 88,
   "metadata": {},
   "outputs": [],
   "source": [
    "centroids, clusters = kmeans(data, k=10)"
   ]
  },
  {
   "attachments": {},
   "cell_type": "markdown",
   "metadata": {},
   "source": [
    "<h3>Evaluate algorithm using purity score:</h3>"
   ]
  },
  {
   "cell_type": "code",
   "execution_count": 89,
   "metadata": {},
   "outputs": [
    {
     "name": "stdout",
     "output_type": "stream",
     "text": [
      "Purity Score: 0.9297568506368198\n"
     ]
    }
   ],
   "source": [
    "purity = purity_score(clusters, labels)\n",
    "print(f\"Purity Score: {purity}\")"
   ]
  }
 ],
 "metadata": {
  "kernelspec": {
   "display_name": "mehdi",
   "language": "python",
   "name": "python3"
  },
  "language_info": {
   "codemirror_mode": {
    "name": "ipython",
    "version": 3
   },
   "file_extension": ".py",
   "mimetype": "text/x-python",
   "name": "python",
   "nbconvert_exporter": "python",
   "pygments_lexer": "ipython3",
   "version": "3.10.8"
  },
  "orig_nbformat": 4,
  "vscode": {
   "interpreter": {
    "hash": "cfa4d4499472c5e04c90f83179432412fb9b8b110b92d624d29b0eb52e3b02c5"
   }
  }
 },
 "nbformat": 4,
 "nbformat_minor": 2
}
